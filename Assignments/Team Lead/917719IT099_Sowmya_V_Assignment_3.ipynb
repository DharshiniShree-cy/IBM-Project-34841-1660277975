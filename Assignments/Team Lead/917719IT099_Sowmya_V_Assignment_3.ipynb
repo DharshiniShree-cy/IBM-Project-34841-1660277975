{
  "cells": [
    {
      "cell_type": "markdown",
      "id": "4911191b",
      "metadata": {
        "id": "4911191b"
      },
      "source": [
        "# Assignment 3 : IBM-Project-34841-1660277975\n"
      ]
    },
    {
      "cell_type": "markdown",
      "id": "a30b4bbf",
      "metadata": {
        "id": "a30b4bbf"
      },
      "source": [
        "## Problem Statement: Abalone Age Prediction"
      ]
    },
    {
      "cell_type": "markdown",
      "id": "ea4e5ac1",
      "metadata": {
        "id": "ea4e5ac1"
      },
      "source": [
        "## Description :"
      ]
    },
    {
      "cell_type": "markdown",
      "id": "a2d25cd0",
      "metadata": {
        "id": "a2d25cd0"
      },
      "source": [
        "### Predicting the age of abalone from physical measurements. The age of abalone is determined by cutting the shell through the cone, staining it, and counting the number of rings through a microscope -- a boring and time-consuming task. Other measurements, which are easier to obtain, are used to predict age. Further information, such as weather patterns and location (hence food availability) may be required to solve the problem."
      ]
    },
    {
      "cell_type": "markdown",
      "id": "215da2ac",
      "metadata": {
        "id": "215da2ac"
      },
      "source": [
        "## Importing Modules"
      ]
    },
    {
      "cell_type": "code",
      "execution_count": 2,
      "id": "5140c9e1",
      "metadata": {
        "id": "5140c9e1"
      },
      "outputs": [],
      "source": [
        "import pandas as pd\n",
        "import seaborn as sns\n",
        "import matplotlib.pyplot as plt\n",
        "import numpy as np"
      ]
    },
    {
      "cell_type": "markdown",
      "id": "e8a03fd1",
      "metadata": {
        "id": "e8a03fd1"
      },
      "source": [
        "## 1. Dataset has been downloaded"
      ]
    },
    {
      "cell_type": "code",
      "execution_count": 3,
      "id": "67cb8d42",
      "metadata": {
        "id": "67cb8d42"
      },
      "outputs": [],
      "source": [
        "#Name of the dataset: abalone.csv"
      ]
    },
    {
      "cell_type": "markdown",
      "id": "6d1526d2",
      "metadata": {
        "id": "6d1526d2"
      },
      "source": [
        "## 2. Load the dataset into the tool"
      ]
    },
    {
      "cell_type": "code",
      "execution_count": 4,
      "id": "56e06927",
      "metadata": {
        "colab": {
          "base_uri": "https://localhost:8080/",
          "height": 328
        },
        "id": "56e06927",
        "outputId": "b7c773c5-ea7c-49b1-8b11-63e51813de9c"
      },
      "outputs": [
        {
          "output_type": "error",
          "ename": "FileNotFoundError",
          "evalue": "ignored",
          "traceback": [
            "\u001b[0;31m---------------------------------------------------------------------------\u001b[0m",
            "\u001b[0;31mFileNotFoundError\u001b[0m                         Traceback (most recent call last)",
            "\u001b[0;32m<ipython-input-4-942e7a687c0e>\u001b[0m in \u001b[0;36m<module>\u001b[0;34m\u001b[0m\n\u001b[0;32m----> 1\u001b[0;31m \u001b[0mdata\u001b[0m\u001b[0;34m=\u001b[0m\u001b[0mpd\u001b[0m\u001b[0;34m.\u001b[0m\u001b[0mread_csv\u001b[0m\u001b[0;34m(\u001b[0m\u001b[0;34m\"abalone.csv\"\u001b[0m\u001b[0;34m)\u001b[0m\u001b[0;34m\u001b[0m\u001b[0;34m\u001b[0m\u001b[0m\n\u001b[0m\u001b[1;32m      2\u001b[0m \u001b[0mdata\u001b[0m\u001b[0;34m.\u001b[0m\u001b[0mhead\u001b[0m\u001b[0;34m(\u001b[0m\u001b[0;34m)\u001b[0m\u001b[0;34m\u001b[0m\u001b[0;34m\u001b[0m\u001b[0m\n",
            "\u001b[0;32m/usr/local/lib/python3.7/dist-packages/pandas/util/_decorators.py\u001b[0m in \u001b[0;36mwrapper\u001b[0;34m(*args, **kwargs)\u001b[0m\n\u001b[1;32m    309\u001b[0m                     \u001b[0mstacklevel\u001b[0m\u001b[0;34m=\u001b[0m\u001b[0mstacklevel\u001b[0m\u001b[0;34m,\u001b[0m\u001b[0;34m\u001b[0m\u001b[0;34m\u001b[0m\u001b[0m\n\u001b[1;32m    310\u001b[0m                 )\n\u001b[0;32m--> 311\u001b[0;31m             \u001b[0;32mreturn\u001b[0m \u001b[0mfunc\u001b[0m\u001b[0;34m(\u001b[0m\u001b[0;34m*\u001b[0m\u001b[0margs\u001b[0m\u001b[0;34m,\u001b[0m \u001b[0;34m**\u001b[0m\u001b[0mkwargs\u001b[0m\u001b[0;34m)\u001b[0m\u001b[0;34m\u001b[0m\u001b[0;34m\u001b[0m\u001b[0m\n\u001b[0m\u001b[1;32m    312\u001b[0m \u001b[0;34m\u001b[0m\u001b[0m\n\u001b[1;32m    313\u001b[0m         \u001b[0;32mreturn\u001b[0m \u001b[0mwrapper\u001b[0m\u001b[0;34m\u001b[0m\u001b[0;34m\u001b[0m\u001b[0m\n",
            "\u001b[0;32m/usr/local/lib/python3.7/dist-packages/pandas/io/parsers/readers.py\u001b[0m in \u001b[0;36mread_csv\u001b[0;34m(filepath_or_buffer, sep, delimiter, header, names, index_col, usecols, squeeze, prefix, mangle_dupe_cols, dtype, engine, converters, true_values, false_values, skipinitialspace, skiprows, skipfooter, nrows, na_values, keep_default_na, na_filter, verbose, skip_blank_lines, parse_dates, infer_datetime_format, keep_date_col, date_parser, dayfirst, cache_dates, iterator, chunksize, compression, thousands, decimal, lineterminator, quotechar, quoting, doublequote, escapechar, comment, encoding, encoding_errors, dialect, error_bad_lines, warn_bad_lines, on_bad_lines, delim_whitespace, low_memory, memory_map, float_precision, storage_options)\u001b[0m\n\u001b[1;32m    584\u001b[0m     \u001b[0mkwds\u001b[0m\u001b[0;34m.\u001b[0m\u001b[0mupdate\u001b[0m\u001b[0;34m(\u001b[0m\u001b[0mkwds_defaults\u001b[0m\u001b[0;34m)\u001b[0m\u001b[0;34m\u001b[0m\u001b[0;34m\u001b[0m\u001b[0m\n\u001b[1;32m    585\u001b[0m \u001b[0;34m\u001b[0m\u001b[0m\n\u001b[0;32m--> 586\u001b[0;31m     \u001b[0;32mreturn\u001b[0m \u001b[0m_read\u001b[0m\u001b[0;34m(\u001b[0m\u001b[0mfilepath_or_buffer\u001b[0m\u001b[0;34m,\u001b[0m \u001b[0mkwds\u001b[0m\u001b[0;34m)\u001b[0m\u001b[0;34m\u001b[0m\u001b[0;34m\u001b[0m\u001b[0m\n\u001b[0m\u001b[1;32m    587\u001b[0m \u001b[0;34m\u001b[0m\u001b[0m\n\u001b[1;32m    588\u001b[0m \u001b[0;34m\u001b[0m\u001b[0m\n",
            "\u001b[0;32m/usr/local/lib/python3.7/dist-packages/pandas/io/parsers/readers.py\u001b[0m in \u001b[0;36m_read\u001b[0;34m(filepath_or_buffer, kwds)\u001b[0m\n\u001b[1;32m    480\u001b[0m \u001b[0;34m\u001b[0m\u001b[0m\n\u001b[1;32m    481\u001b[0m     \u001b[0;31m# Create the parser.\u001b[0m\u001b[0;34m\u001b[0m\u001b[0;34m\u001b[0m\u001b[0;34m\u001b[0m\u001b[0m\n\u001b[0;32m--> 482\u001b[0;31m     \u001b[0mparser\u001b[0m \u001b[0;34m=\u001b[0m \u001b[0mTextFileReader\u001b[0m\u001b[0;34m(\u001b[0m\u001b[0mfilepath_or_buffer\u001b[0m\u001b[0;34m,\u001b[0m \u001b[0;34m**\u001b[0m\u001b[0mkwds\u001b[0m\u001b[0;34m)\u001b[0m\u001b[0;34m\u001b[0m\u001b[0;34m\u001b[0m\u001b[0m\n\u001b[0m\u001b[1;32m    483\u001b[0m \u001b[0;34m\u001b[0m\u001b[0m\n\u001b[1;32m    484\u001b[0m     \u001b[0;32mif\u001b[0m \u001b[0mchunksize\u001b[0m \u001b[0;32mor\u001b[0m \u001b[0miterator\u001b[0m\u001b[0;34m:\u001b[0m\u001b[0;34m\u001b[0m\u001b[0;34m\u001b[0m\u001b[0m\n",
            "\u001b[0;32m/usr/local/lib/python3.7/dist-packages/pandas/io/parsers/readers.py\u001b[0m in \u001b[0;36m__init__\u001b[0;34m(self, f, engine, **kwds)\u001b[0m\n\u001b[1;32m    809\u001b[0m             \u001b[0mself\u001b[0m\u001b[0;34m.\u001b[0m\u001b[0moptions\u001b[0m\u001b[0;34m[\u001b[0m\u001b[0;34m\"has_index_names\"\u001b[0m\u001b[0;34m]\u001b[0m \u001b[0;34m=\u001b[0m \u001b[0mkwds\u001b[0m\u001b[0;34m[\u001b[0m\u001b[0;34m\"has_index_names\"\u001b[0m\u001b[0;34m]\u001b[0m\u001b[0;34m\u001b[0m\u001b[0;34m\u001b[0m\u001b[0m\n\u001b[1;32m    810\u001b[0m \u001b[0;34m\u001b[0m\u001b[0m\n\u001b[0;32m--> 811\u001b[0;31m         \u001b[0mself\u001b[0m\u001b[0;34m.\u001b[0m\u001b[0m_engine\u001b[0m \u001b[0;34m=\u001b[0m \u001b[0mself\u001b[0m\u001b[0;34m.\u001b[0m\u001b[0m_make_engine\u001b[0m\u001b[0;34m(\u001b[0m\u001b[0mself\u001b[0m\u001b[0;34m.\u001b[0m\u001b[0mengine\u001b[0m\u001b[0;34m)\u001b[0m\u001b[0;34m\u001b[0m\u001b[0;34m\u001b[0m\u001b[0m\n\u001b[0m\u001b[1;32m    812\u001b[0m \u001b[0;34m\u001b[0m\u001b[0m\n\u001b[1;32m    813\u001b[0m     \u001b[0;32mdef\u001b[0m \u001b[0mclose\u001b[0m\u001b[0;34m(\u001b[0m\u001b[0mself\u001b[0m\u001b[0;34m)\u001b[0m\u001b[0;34m:\u001b[0m\u001b[0;34m\u001b[0m\u001b[0;34m\u001b[0m\u001b[0m\n",
            "\u001b[0;32m/usr/local/lib/python3.7/dist-packages/pandas/io/parsers/readers.py\u001b[0m in \u001b[0;36m_make_engine\u001b[0;34m(self, engine)\u001b[0m\n\u001b[1;32m   1038\u001b[0m             )\n\u001b[1;32m   1039\u001b[0m         \u001b[0;31m# error: Too many arguments for \"ParserBase\"\u001b[0m\u001b[0;34m\u001b[0m\u001b[0;34m\u001b[0m\u001b[0;34m\u001b[0m\u001b[0m\n\u001b[0;32m-> 1040\u001b[0;31m         \u001b[0;32mreturn\u001b[0m \u001b[0mmapping\u001b[0m\u001b[0;34m[\u001b[0m\u001b[0mengine\u001b[0m\u001b[0;34m]\u001b[0m\u001b[0;34m(\u001b[0m\u001b[0mself\u001b[0m\u001b[0;34m.\u001b[0m\u001b[0mf\u001b[0m\u001b[0;34m,\u001b[0m \u001b[0;34m**\u001b[0m\u001b[0mself\u001b[0m\u001b[0;34m.\u001b[0m\u001b[0moptions\u001b[0m\u001b[0;34m)\u001b[0m  \u001b[0;31m# type: ignore[call-arg]\u001b[0m\u001b[0;34m\u001b[0m\u001b[0;34m\u001b[0m\u001b[0m\n\u001b[0m\u001b[1;32m   1041\u001b[0m \u001b[0;34m\u001b[0m\u001b[0m\n\u001b[1;32m   1042\u001b[0m     \u001b[0;32mdef\u001b[0m \u001b[0m_failover_to_python\u001b[0m\u001b[0;34m(\u001b[0m\u001b[0mself\u001b[0m\u001b[0;34m)\u001b[0m\u001b[0;34m:\u001b[0m\u001b[0;34m\u001b[0m\u001b[0;34m\u001b[0m\u001b[0m\n",
            "\u001b[0;32m/usr/local/lib/python3.7/dist-packages/pandas/io/parsers/c_parser_wrapper.py\u001b[0m in \u001b[0;36m__init__\u001b[0;34m(self, src, **kwds)\u001b[0m\n\u001b[1;32m     49\u001b[0m \u001b[0;34m\u001b[0m\u001b[0m\n\u001b[1;32m     50\u001b[0m         \u001b[0;31m# open handles\u001b[0m\u001b[0;34m\u001b[0m\u001b[0;34m\u001b[0m\u001b[0;34m\u001b[0m\u001b[0m\n\u001b[0;32m---> 51\u001b[0;31m         \u001b[0mself\u001b[0m\u001b[0;34m.\u001b[0m\u001b[0m_open_handles\u001b[0m\u001b[0;34m(\u001b[0m\u001b[0msrc\u001b[0m\u001b[0;34m,\u001b[0m \u001b[0mkwds\u001b[0m\u001b[0;34m)\u001b[0m\u001b[0;34m\u001b[0m\u001b[0;34m\u001b[0m\u001b[0m\n\u001b[0m\u001b[1;32m     52\u001b[0m         \u001b[0;32massert\u001b[0m \u001b[0mself\u001b[0m\u001b[0;34m.\u001b[0m\u001b[0mhandles\u001b[0m \u001b[0;32mis\u001b[0m \u001b[0;32mnot\u001b[0m \u001b[0;32mNone\u001b[0m\u001b[0;34m\u001b[0m\u001b[0;34m\u001b[0m\u001b[0m\n\u001b[1;32m     53\u001b[0m \u001b[0;34m\u001b[0m\u001b[0m\n",
            "\u001b[0;32m/usr/local/lib/python3.7/dist-packages/pandas/io/parsers/base_parser.py\u001b[0m in \u001b[0;36m_open_handles\u001b[0;34m(self, src, kwds)\u001b[0m\n\u001b[1;32m    227\u001b[0m             \u001b[0mmemory_map\u001b[0m\u001b[0;34m=\u001b[0m\u001b[0mkwds\u001b[0m\u001b[0;34m.\u001b[0m\u001b[0mget\u001b[0m\u001b[0;34m(\u001b[0m\u001b[0;34m\"memory_map\"\u001b[0m\u001b[0;34m,\u001b[0m \u001b[0;32mFalse\u001b[0m\u001b[0;34m)\u001b[0m\u001b[0;34m,\u001b[0m\u001b[0;34m\u001b[0m\u001b[0;34m\u001b[0m\u001b[0m\n\u001b[1;32m    228\u001b[0m             \u001b[0mstorage_options\u001b[0m\u001b[0;34m=\u001b[0m\u001b[0mkwds\u001b[0m\u001b[0;34m.\u001b[0m\u001b[0mget\u001b[0m\u001b[0;34m(\u001b[0m\u001b[0;34m\"storage_options\"\u001b[0m\u001b[0;34m,\u001b[0m \u001b[0;32mNone\u001b[0m\u001b[0;34m)\u001b[0m\u001b[0;34m,\u001b[0m\u001b[0;34m\u001b[0m\u001b[0;34m\u001b[0m\u001b[0m\n\u001b[0;32m--> 229\u001b[0;31m             \u001b[0merrors\u001b[0m\u001b[0;34m=\u001b[0m\u001b[0mkwds\u001b[0m\u001b[0;34m.\u001b[0m\u001b[0mget\u001b[0m\u001b[0;34m(\u001b[0m\u001b[0;34m\"encoding_errors\"\u001b[0m\u001b[0;34m,\u001b[0m \u001b[0;34m\"strict\"\u001b[0m\u001b[0;34m)\u001b[0m\u001b[0;34m,\u001b[0m\u001b[0;34m\u001b[0m\u001b[0;34m\u001b[0m\u001b[0m\n\u001b[0m\u001b[1;32m    230\u001b[0m         )\n\u001b[1;32m    231\u001b[0m \u001b[0;34m\u001b[0m\u001b[0m\n",
            "\u001b[0;32m/usr/local/lib/python3.7/dist-packages/pandas/io/common.py\u001b[0m in \u001b[0;36mget_handle\u001b[0;34m(path_or_buf, mode, encoding, compression, memory_map, is_text, errors, storage_options)\u001b[0m\n\u001b[1;32m    705\u001b[0m                 \u001b[0mencoding\u001b[0m\u001b[0;34m=\u001b[0m\u001b[0mioargs\u001b[0m\u001b[0;34m.\u001b[0m\u001b[0mencoding\u001b[0m\u001b[0;34m,\u001b[0m\u001b[0;34m\u001b[0m\u001b[0;34m\u001b[0m\u001b[0m\n\u001b[1;32m    706\u001b[0m                 \u001b[0merrors\u001b[0m\u001b[0;34m=\u001b[0m\u001b[0merrors\u001b[0m\u001b[0;34m,\u001b[0m\u001b[0;34m\u001b[0m\u001b[0;34m\u001b[0m\u001b[0m\n\u001b[0;32m--> 707\u001b[0;31m                 \u001b[0mnewline\u001b[0m\u001b[0;34m=\u001b[0m\u001b[0;34m\"\"\u001b[0m\u001b[0;34m,\u001b[0m\u001b[0;34m\u001b[0m\u001b[0;34m\u001b[0m\u001b[0m\n\u001b[0m\u001b[1;32m    708\u001b[0m             )\n\u001b[1;32m    709\u001b[0m         \u001b[0;32melse\u001b[0m\u001b[0;34m:\u001b[0m\u001b[0;34m\u001b[0m\u001b[0;34m\u001b[0m\u001b[0m\n",
            "\u001b[0;31mFileNotFoundError\u001b[0m: [Errno 2] No such file or directory: 'abalone.csv'"
          ]
        }
      ],
      "source": [
        "data=pd.read_csv(\"abalone.csv\")\n",
        "data.head()"
      ]
    },
    {
      "cell_type": "markdown",
      "id": "fb34f18a",
      "metadata": {
        "id": "fb34f18a"
      },
      "source": [
        "### Let's know the shape of the data"
      ]
    },
    {
      "cell_type": "code",
      "execution_count": null,
      "id": "dc2b0196",
      "metadata": {
        "id": "dc2b0196"
      },
      "outputs": [],
      "source": [
        "data.shape"
      ]
    },
    {
      "cell_type": "markdown",
      "id": "d8b4fa1b",
      "metadata": {
        "id": "d8b4fa1b"
      },
      "source": [
        "### One additional task is that, we have to add the \"Age\" column using \"Rings\" data. We just have to add '1.5' to the ring data"
      ]
    },
    {
      "cell_type": "code",
      "execution_count": null,
      "id": "b697a97b",
      "metadata": {
        "id": "b697a97b"
      },
      "outputs": [],
      "source": [
        "Age=1.5+data.Rings\n",
        "data[\"Age\"]=Age\n",
        "data=data.rename(columns = {'Whole weight':'Whole_weight','Shucked weight': 'Shucked_weight','Viscera weight': 'Viscera_weight',\n",
        "                            'Shell weight': 'Shell_weight'})\n",
        "data=data.drop(columns=[\"Rings\"],axis=1)\n",
        "data.head()"
      ]
    },
    {
      "cell_type": "markdown",
      "id": "b8bbb46c",
      "metadata": {
        "id": "b8bbb46c"
      },
      "source": [
        "## 3. Perform Below Visualizations."
      ]
    },
    {
      "cell_type": "markdown",
      "id": "75ed979d",
      "metadata": {
        "id": "75ed979d"
      },
      "source": [
        "## (i) Univariate Analysis"
      ]
    },
    {
      "cell_type": "markdown",
      "id": "4e72b3e0",
      "metadata": {
        "id": "4e72b3e0"
      },
      "source": [
        "###\n",
        "The term univariate analysis refers to the analysis of one variable. You can remember this because the prefix “uni” means “one.” There are three common ways to perform univariate analysis on one variable: 1. Summary statistics – Measures the center and spread of values.\n",
        "###"
      ]
    },
    {
      "cell_type": "markdown",
      "id": "142752ec",
      "metadata": {
        "id": "142752ec"
      },
      "source": [
        "### Histogram"
      ]
    },
    {
      "cell_type": "code",
      "execution_count": null,
      "id": "07e8262b",
      "metadata": {
        "id": "07e8262b"
      },
      "outputs": [],
      "source": [
        "sns.displot(data[\"Age\"], color='darkorange')"
      ]
    },
    {
      "cell_type": "code",
      "execution_count": null,
      "id": "675f7424",
      "metadata": {
        "id": "675f7424"
      },
      "outputs": [],
      "source": [
        "sns.histplot(y=data.Age,color='pink') "
      ]
    },
    {
      "cell_type": "code",
      "execution_count": null,
      "id": "9fe4745f",
      "metadata": {
        "id": "9fe4745f"
      },
      "outputs": [],
      "source": [
        "sns.histplot(x=data.Age,color='green') "
      ]
    },
    {
      "cell_type": "markdown",
      "id": "6ded8880",
      "metadata": {
        "id": "6ded8880"
      },
      "source": [
        "### Boxplot"
      ]
    },
    {
      "cell_type": "code",
      "execution_count": null,
      "id": "f6db3b12",
      "metadata": {
        "id": "f6db3b12"
      },
      "outputs": [],
      "source": [
        "sns.boxplot(x=data.Age,color='pink') "
      ]
    },
    {
      "cell_type": "markdown",
      "id": "aa135dbe",
      "metadata": {
        "id": "aa135dbe"
      },
      "source": [
        "### Countplot"
      ]
    },
    {
      "cell_type": "code",
      "execution_count": null,
      "id": "bf4b713d",
      "metadata": {
        "id": "bf4b713d"
      },
      "outputs": [],
      "source": [
        "sns.countplot(x=data.Age) "
      ]
    },
    {
      "cell_type": "markdown",
      "id": "a47aecb0",
      "metadata": {
        "id": "a47aecb0"
      },
      "source": [
        "## (ii) Bi-Variate Analysis"
      ]
    },
    {
      "cell_type": "markdown",
      "id": "bfaa3837",
      "metadata": {
        "id": "bfaa3837"
      },
      "source": [
        "###\n",
        "Image result for bivariate analysis in python It is a methodical statistical technique applied to a pair of variables (features/ attributes) of data to determine the empirical relationship between them. In order words, it is meant to determine any concurrent relations (usually over and above a simple correlation analysis).\n",
        "###"
      ]
    },
    {
      "cell_type": "markdown",
      "id": "54dfda2e",
      "metadata": {
        "id": "54dfda2e"
      },
      "source": [
        "### Barplot"
      ]
    },
    {
      "cell_type": "code",
      "execution_count": null,
      "id": "0242e757",
      "metadata": {
        "id": "0242e757"
      },
      "outputs": [],
      "source": [
        "sns.barplot(x=data.Height,y=data.Age)"
      ]
    },
    {
      "cell_type": "markdown",
      "id": "b6023414",
      "metadata": {
        "id": "b6023414"
      },
      "source": [
        "### Linearplot"
      ]
    },
    {
      "cell_type": "code",
      "execution_count": null,
      "id": "a3f0d402",
      "metadata": {
        "id": "a3f0d402"
      },
      "outputs": [],
      "source": [
        "sns.lineplot(x=data.Age,y=data.Height, color='purple')"
      ]
    },
    {
      "cell_type": "markdown",
      "id": "3aafa218",
      "metadata": {
        "id": "3aafa218"
      },
      "source": [
        "### Scatterplot"
      ]
    },
    {
      "cell_type": "code",
      "execution_count": null,
      "id": "9cc4dfc8",
      "metadata": {
        "id": "9cc4dfc8"
      },
      "outputs": [],
      "source": [
        "sns.scatterplot(x=data.Age,y=data.Height,color='green')"
      ]
    },
    {
      "cell_type": "markdown",
      "id": "2f29b464",
      "metadata": {
        "id": "2f29b464"
      },
      "source": [
        "### Pointplot"
      ]
    },
    {
      "cell_type": "code",
      "execution_count": null,
      "id": "42efad17",
      "metadata": {
        "id": "42efad17"
      },
      "outputs": [],
      "source": [
        "sns.pointplot(x=data.Age, y=data.Height, color=\"blue\") "
      ]
    },
    {
      "cell_type": "markdown",
      "id": "bec362c8",
      "metadata": {
        "id": "bec362c8"
      },
      "source": [
        "### Regplot"
      ]
    },
    {
      "cell_type": "code",
      "execution_count": null,
      "id": "49a5a4d9",
      "metadata": {
        "id": "49a5a4d9"
      },
      "outputs": [],
      "source": [
        "sns.regplot(x=data.Age,y=data.Height,color='orange') "
      ]
    },
    {
      "cell_type": "markdown",
      "id": "584e9018",
      "metadata": {
        "id": "584e9018"
      },
      "source": [
        "## (iii) Multi-Variate Analysis"
      ]
    },
    {
      "cell_type": "markdown",
      "id": "b4684aaf",
      "metadata": {
        "id": "b4684aaf"
      },
      "source": [
        "###\n",
        "Multivariate analysis is based in observation and analysis of more than one statistical outcome variable at a time. In design and analysis, the technique is used to perform trade studies across multiple dimensions while taking into account the effects of all variables on the responses of interest.\n",
        "###"
      ]
    },
    {
      "cell_type": "markdown",
      "id": "20a4698d",
      "metadata": {
        "id": "20a4698d"
      },
      "source": [
        "### Pairplot"
      ]
    },
    {
      "cell_type": "code",
      "execution_count": null,
      "id": "dbabebd0",
      "metadata": {
        "id": "dbabebd0"
      },
      "outputs": [],
      "source": [
        "sns.pairplot(data=data[[\"Height\",\"Length\",\"Diameter\",\"Age\",\"Whole_weight\",\"Shucked_weight\",\"Viscera_weight\",\"Shell_weight\"]])"
      ]
    },
    {
      "cell_type": "code",
      "execution_count": null,
      "id": "f0bc6d30",
      "metadata": {
        "id": "f0bc6d30"
      },
      "outputs": [],
      "source": [
        "sns.pairplot(data=data[[\"Height\",\"Length\",\"Diameter\",\"Age\",\"Whole_weight\",\"Shucked_weight\",\"Viscera_weight\",\"Shell_weight\"]],kind=\"kde\")"
      ]
    },
    {
      "cell_type": "markdown",
      "id": "214490c6",
      "metadata": {
        "id": "214490c6"
      },
      "source": [
        "## 4. Perform descriptive statistics on the dataset"
      ]
    },
    {
      "cell_type": "code",
      "execution_count": null,
      "id": "1cf55692",
      "metadata": {
        "id": "1cf55692"
      },
      "outputs": [],
      "source": [
        "data.describe(include='all')"
      ]
    },
    {
      "cell_type": "markdown",
      "id": "0134ca8d",
      "metadata": {
        "id": "0134ca8d"
      },
      "source": [
        "## 5. Check for Missing values and deal with them"
      ]
    },
    {
      "cell_type": "code",
      "execution_count": null,
      "id": "f2896012",
      "metadata": {
        "id": "f2896012"
      },
      "outputs": [],
      "source": [
        "data.isnull().sum()"
      ]
    },
    {
      "cell_type": "markdown",
      "id": "c679d5f7",
      "metadata": {
        "id": "c679d5f7"
      },
      "source": [
        "## 6. Find the outliers and replace them outliers"
      ]
    },
    {
      "cell_type": "code",
      "execution_count": null,
      "id": "f33fda7b",
      "metadata": {
        "id": "f33fda7b"
      },
      "outputs": [],
      "source": [
        "outliers=data.quantile(q=(0.25,0.75))\n",
        "outliers"
      ]
    },
    {
      "cell_type": "code",
      "execution_count": null,
      "id": "81536478",
      "metadata": {
        "id": "81536478"
      },
      "outputs": [],
      "source": [
        "a = data.Age.quantile(0.25)\n",
        "b = data.Age.quantile(0.75)\n",
        "c = b - a\n",
        "lower_limit = a - 1.5 * c\n",
        "data.median(numeric_only=True)"
      ]
    },
    {
      "cell_type": "code",
      "execution_count": null,
      "id": "86b23d82",
      "metadata": {
        "id": "86b23d82"
      },
      "outputs": [],
      "source": [
        "data['Age'] = np.where(data['Age'] < lower_limit, 7, data['Age'])\n",
        "sns.boxplot(x=data.Age,showfliers = False)"
      ]
    },
    {
      "cell_type": "markdown",
      "id": "ebedfa4a",
      "metadata": {
        "id": "ebedfa4a"
      },
      "source": [
        "## 7. Check for Categorical columns and perform encoding"
      ]
    },
    {
      "cell_type": "code",
      "execution_count": null,
      "id": "db91df79",
      "metadata": {
        "id": "db91df79"
      },
      "outputs": [],
      "source": [
        "data.head()"
      ]
    },
    {
      "cell_type": "code",
      "execution_count": null,
      "id": "572c470f",
      "metadata": {
        "id": "572c470f"
      },
      "outputs": [],
      "source": [
        "from sklearn.preprocessing import LabelEncoder\n",
        "\n",
        "lab = LabelEncoder()\n",
        "data.Sex = lab.fit_transform(data.Sex)\n",
        "\n",
        "data.head()"
      ]
    },
    {
      "cell_type": "markdown",
      "id": "88da66db",
      "metadata": {
        "id": "88da66db"
      },
      "source": [
        "## 8. Split the data into dependent and independent variables"
      ]
    },
    {
      "cell_type": "code",
      "execution_count": null,
      "id": "ec0cc186",
      "metadata": {
        "id": "ec0cc186"
      },
      "outputs": [],
      "source": [
        "y = data[\"Sex\"]\n",
        "y.head()"
      ]
    },
    {
      "cell_type": "code",
      "execution_count": null,
      "id": "39515d7b",
      "metadata": {
        "id": "39515d7b"
      },
      "outputs": [],
      "source": [
        "x=data.drop(columns=[\"Sex\"],axis=1)\n",
        "x.head()"
      ]
    },
    {
      "cell_type": "markdown",
      "id": "629e5389",
      "metadata": {
        "id": "629e5389"
      },
      "source": [
        "## 9. Scale the independent variables"
      ]
    },
    {
      "cell_type": "code",
      "execution_count": null,
      "id": "53cb1f52",
      "metadata": {
        "id": "53cb1f52"
      },
      "outputs": [],
      "source": [
        "from sklearn.preprocessing import scale\n",
        "X_Scaled = pd.DataFrame(scale(x), columns=x.columns)\n",
        "X_Scaled.head()"
      ]
    },
    {
      "cell_type": "markdown",
      "id": "d570069c",
      "metadata": {
        "id": "d570069c"
      },
      "source": [
        "## 10. Split the data into training and testing"
      ]
    },
    {
      "cell_type": "code",
      "execution_count": null,
      "id": "3c8093c8",
      "metadata": {
        "id": "3c8093c8"
      },
      "outputs": [],
      "source": [
        "from sklearn.model_selection import train_test_split\n",
        "X_Train, X_Test, Y_Train, Y_Test = train_test_split(X_Scaled, y, test_size=0.2, random_state=0)"
      ]
    },
    {
      "cell_type": "code",
      "execution_count": null,
      "id": "f78304bc",
      "metadata": {
        "id": "f78304bc"
      },
      "outputs": [],
      "source": [
        "X_Train.shape,X_Test.shape"
      ]
    },
    {
      "cell_type": "code",
      "execution_count": null,
      "id": "5736eb23",
      "metadata": {
        "id": "5736eb23"
      },
      "outputs": [],
      "source": [
        "Y_Train.shape,Y_Test.shape"
      ]
    },
    {
      "cell_type": "code",
      "execution_count": null,
      "id": "30871571",
      "metadata": {
        "id": "30871571"
      },
      "outputs": [],
      "source": [
        "X_Train.head()"
      ]
    },
    {
      "cell_type": "code",
      "execution_count": null,
      "id": "fd523932",
      "metadata": {
        "id": "fd523932"
      },
      "outputs": [],
      "source": [
        "X_Test.head()"
      ]
    },
    {
      "cell_type": "code",
      "execution_count": null,
      "id": "4d768c20",
      "metadata": {
        "id": "4d768c20"
      },
      "outputs": [],
      "source": [
        "Y_Train.head()"
      ]
    },
    {
      "cell_type": "code",
      "execution_count": null,
      "id": "30b40edc",
      "metadata": {
        "id": "30b40edc"
      },
      "outputs": [],
      "source": [
        "Y_Test.head()"
      ]
    },
    {
      "cell_type": "markdown",
      "id": "8b3257e3",
      "metadata": {
        "id": "8b3257e3"
      },
      "source": [
        "## 11. Build the Model"
      ]
    },
    {
      "cell_type": "code",
      "execution_count": null,
      "id": "4734c702",
      "metadata": {
        "id": "4734c702"
      },
      "outputs": [],
      "source": [
        "from sklearn.ensemble import RandomForestClassifier\n",
        "model = RandomForestClassifier(n_estimators=10,criterion='entropy')"
      ]
    },
    {
      "cell_type": "code",
      "execution_count": null,
      "id": "fa447ad1",
      "metadata": {
        "id": "fa447ad1"
      },
      "outputs": [],
      "source": [
        "model.fit(X_Train,Y_Train)"
      ]
    },
    {
      "cell_type": "code",
      "execution_count": null,
      "id": "708bdbdb",
      "metadata": {
        "id": "708bdbdb"
      },
      "outputs": [],
      "source": [
        "y_predict = model.predict(X_Test)"
      ]
    },
    {
      "cell_type": "code",
      "execution_count": null,
      "id": "6678d287",
      "metadata": {
        "id": "6678d287"
      },
      "outputs": [],
      "source": [
        "y_predict_train = model.predict(X_Train)"
      ]
    },
    {
      "cell_type": "markdown",
      "id": "eee632bf",
      "metadata": {
        "id": "eee632bf"
      },
      "source": [
        "## 12. Train the Model"
      ]
    },
    {
      "cell_type": "code",
      "execution_count": null,
      "id": "f8ac77b0",
      "metadata": {
        "id": "f8ac77b0"
      },
      "outputs": [],
      "source": [
        "from sklearn.metrics import accuracy_score,confusion_matrix,classification_report"
      ]
    },
    {
      "cell_type": "code",
      "execution_count": null,
      "id": "24959576",
      "metadata": {
        "id": "24959576"
      },
      "outputs": [],
      "source": [
        "print('Training accuracy: ',accuracy_score(Y_Train,y_predict_train))"
      ]
    },
    {
      "cell_type": "markdown",
      "id": "2c0d16b7",
      "metadata": {
        "id": "2c0d16b7"
      },
      "source": [
        "## 13.Test the Model"
      ]
    },
    {
      "cell_type": "code",
      "execution_count": null,
      "id": "47402fce",
      "metadata": {
        "id": "47402fce"
      },
      "outputs": [],
      "source": [
        "print('Testing accuracy: ',accuracy_score(Y_Test,y_predict))"
      ]
    },
    {
      "cell_type": "markdown",
      "id": "9c56960f",
      "metadata": {
        "id": "9c56960f"
      },
      "source": [
        "## 14. Measure the performance using Metrics"
      ]
    },
    {
      "cell_type": "code",
      "execution_count": null,
      "id": "ecc47b97",
      "metadata": {
        "id": "ecc47b97"
      },
      "outputs": [],
      "source": [
        "pd.crosstab(Y_Test,y_predict)"
      ]
    },
    {
      "cell_type": "code",
      "execution_count": null,
      "id": "9d1d07de",
      "metadata": {
        "id": "9d1d07de"
      },
      "outputs": [],
      "source": [
        "print(classification_report(Y_Test,y_predict))"
      ]
    }
  ],
  "metadata": {
    "kernelspec": {
      "display_name": "Python 3 (ipykernel)",
      "language": "python",
      "name": "python3"
    },
    "language_info": {
      "codemirror_mode": {
        "name": "ipython",
        "version": 3
      },
      "file_extension": ".py",
      "mimetype": "text/x-python",
      "name": "python",
      "nbconvert_exporter": "python",
      "pygments_lexer": "ipython3",
      "version": "3.9.7"
    },
    "colab": {
      "provenance": [],
      "collapsed_sections": [
        "75ed979d",
        "142752ec",
        "6ded8880",
        "aa135dbe",
        "a47aecb0",
        "54dfda2e",
        "b6023414",
        "3aafa218",
        "2f29b464",
        "bec362c8",
        "584e9018",
        "20a4698d",
        "0134ca8d",
        "c679d5f7",
        "ebedfa4a",
        "88da66db",
        "d570069c",
        "8b3257e3",
        "eee632bf",
        "2c0d16b7",
        "9c56960f"
      ]
    }
  },
  "nbformat": 4,
  "nbformat_minor": 5
}